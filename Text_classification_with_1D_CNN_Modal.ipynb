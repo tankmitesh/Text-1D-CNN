{
  "cells": [
    {
      "cell_type": "markdown",
      "metadata": {
        "id": "KhkAB39CYxPz"
      },
      "source": [
        "##### Import Packages"
      ]
    },
    {
      "cell_type": "code",
      "execution_count": null,
      "metadata": {
        "id": "6ShXidLnhVIM"
      },
      "outputs": [],
      "source": [
        "import tensorflow as tf\n",
        "import pandas as pd\n",
        "import numpy as np\n",
        "import matplotlib.pyplot as plt\n",
        "from tqdm import tqdm\n",
        "import re\n",
        "import os\n",
        "from email.utils import parseaddr\n",
        "from tqdm.notebook import tqdm\n",
        "from sklearn.model_selection import train_test_split\n",
        "from tensorflow.keras.preprocessing.sequence import pad_sequences\n",
        "from tensorflow.keras.preprocessing.text import Tokenizer\n",
        "from keras.layers import Dense\n",
        "from keras.layers.core import Activation\n",
        "from keras.layers import Dense, Input, Flatten, Dropout\n",
        "from keras.layers import Conv1D, MaxPooling1D, Embedding\n",
        "from keras.models import Sequential\n",
        "from tensorflow.keras import regularizers\n",
        "from keras.layers import concatenate\n",
        "from string import digits\n",
        "from sklearn import preprocessing\n",
        "from sklearn.preprocessing import LabelEncoder, OneHotEncoder\n",
        "from tensorflow.keras import backend as K\n",
        "import datetime\n",
        "from tensorflow.keras.utils import to_categorical\n",
        "import tensorflow.keras.layers as layer"
      ]
    },
    {
      "cell_type": "code",
      "execution_count": null,
      "metadata": {
        "id": "-6YZcRcMhaEa"
      },
      "outputs": [],
      "source": [
        "nltk.download('averaged_perceptron_tagger')\n",
        "nltk.download('maxent_ne_chunker')\n",
        "nltk.download('words')\n",
        "nltk.download('punkt')"
      ]
    },
    {
      "cell_type": "code",
      "execution_count": null,
      "metadata": {
        "colab": {
          "base_uri": "https://localhost:8080/"
        },
        "id": "2AolwFzCoqp-",
        "outputId": "66f06cab-23ea-4004-f41b-7d541d70499f"
      },
      "outputs": [
        {
          "name": "stdout",
          "output_type": "stream",
          "text": [
            "Mounted at /content/drive\n"
          ]
        }
      ],
      "source": [
        "from google.colab import drive\n",
        "drive.mount('/content/drive')"
      ]
    },
    {
      "cell_type": "code",
      "execution_count": null,
      "metadata": {
        "colab": {
          "base_uri": "https://localhost:8080/"
        },
        "id": "NvEtfuDwiFHP",
        "outputId": "b981764b-374d-42ad-e008-089a5e733c70"
      },
      "outputs": [
        {
          "name": "stdout",
          "output_type": "stream",
          "text": [
            "  % Total    % Received % Xferd  Average Speed   Time    Time     Time  Current\n",
            "                                 Dload  Upload   Total   Spent    Left  Speed\n",
            "100  822M  100  822M    0     0  4485k      0  0:03:07  0:03:07 --:--:-- 3423k\n"
          ]
        }
      ],
      "source": [
        "# download globe model tokens https://nlp.stanford.edu/projects/glove/\n",
        "!curl --header \"Host: downloads.cs.stanford.edu\" --header \"User-Agent: Mozilla/5.0 (Windows NT 10.0; Win64; x64) AppleWebKit/537.36 (KHTML, like Gecko) Chrome/108.0.0.0 Safari/537.36\" --header \"Accept: text/html,application/xhtml+xml,application/xml;q=0.9,image/avif,image/webp,image/apng,*/*;q=0.8,application/signed-exchange;v=b3;q=0.9\" --header \"Accept-Language: en-US,en;q=0.9\" --header \"Referer: https://nlp.stanford.edu/\" --header \"Cookie: _ga=GA1.2.545929601.1671976005; _gid=GA1.2.2065625101.1671976005; _gat=1\" --header \"Connection: keep-alive\" \"https://downloads.cs.stanford.edu/nlp/data/glove.6B.zip\" -L -o \"glove.6B.zip\""
      ]
    },
    {
      "cell_type": "code",
      "execution_count": null,
      "metadata": {
        "colab": {
          "base_uri": "https://localhost:8080/"
        },
        "id": "tkPncZSGiho3",
        "outputId": "6f4e09e4-ba72-4318-bf6b-903b98e704eb"
      },
      "outputs": [
        {
          "name": "stdout",
          "output_type": "stream",
          "text": [
            "Archive:  /content/glove.6B.zip\n",
            "  inflating: /content/glove/glove.6B.50d.txt  \n",
            "  inflating: /content/glove/glove.6B.100d.txt  \n",
            "  inflating: /content/glove/glove.6B.200d.txt  \n",
            "  inflating: /content/glove/glove.6B.300d.txt  \n"
          ]
        }
      ],
      "source": [
        "!unzip \"/content/glove.6B.zip\" -d \"/content/glove\""
      ]
    },
    {
      "cell_type": "code",
      "execution_count": null,
      "metadata": {
        "colab": {
          "base_uri": "https://localhost:8080/",
          "height": 554
        },
        "id": "HztfNKtz7AAo",
        "outputId": "e9d2ccc0-f74e-4cdb-f166-26a7e5460bf9"
      },
      "outputs": [
        {
          "data": {
            "text/html": [
              "\n",
              "  <div id=\"df-07a9cc89-6ca7-4e0e-b84c-7afeea5e1faa\">\n",
              "    <div class=\"colab-df-container\">\n",
              "      <div>\n",
              "<style scoped>\n",
              "    .dataframe tbody tr th:only-of-type {\n",
              "        vertical-align: middle;\n",
              "    }\n",
              "\n",
              "    .dataframe tbody tr th {\n",
              "        vertical-align: top;\n",
              "    }\n",
              "\n",
              "    .dataframe thead th {\n",
              "        text-align: right;\n",
              "    }\n",
              "</style>\n",
              "<table border=\"1\" class=\"dataframe\">\n",
              "  <thead>\n",
              "    <tr style=\"text-align: right;\">\n",
              "      <th></th>\n",
              "      <th>text</th>\n",
              "      <th>email_id</th>\n",
              "      <th>subject</th>\n",
              "      <th>raw_text</th>\n",
              "      <th>class_label</th>\n",
              "    </tr>\n",
              "  </thead>\n",
              "  <tbody>\n",
              "    <tr>\n",
              "      <th>0</th>\n",
              "      <td>his was posted the firearms politics mailing l...</td>\n",
              "      <td>hound dazixca ingr  hound dazixca ingr</td>\n",
              "      <td>randy weaver trail - day 3</td>\n",
              "      <td>From: crphilli@hound.dazixca.ingr.com (Ron Phi...</td>\n",
              "      <td>talk.politics.guns</td>\n",
              "    </tr>\n",
              "    <tr>\n",
              "      <th>1</th>\n",
              "      <td>having problem with truetype fonts windows hav...</td>\n",
              "      <td>gandalf fl bs dlr de gandalf fl bs dlr de</td>\n",
              "      <td>truetype font mix-up times=&gt;cyrillic</td>\n",
              "      <td>From: FL2G@gandalf.fl.bs.dlr.de (Reiner Suikat...</td>\n",
              "      <td>comp.os.ms-windows.misc</td>\n",
              "    </tr>\n",
              "    <tr>\n",
              "      <th>2</th>\n",
              "      <td>does the radio electronics free information ca...</td>\n",
              "      <td>panix  acsu buffalo edu ubvmsb cc buffalo ed...</td>\n",
              "      <td>radio electronics free information card</td>\n",
              "      <td>From: schuster@panix.com (Michael Schuster) Su...</td>\n",
              "      <td>sci.electronics</td>\n",
              "    </tr>\n",
              "    <tr>\n",
              "      <th>3</th>\n",
              "      <td>uppose have boolean function which minimal sum...</td>\n",
              "      <td>carson u washington edu ringer cs utsa edu r...</td>\n",
              "      <td>minimal boolean circuit</td>\n",
              "      <td>From: whit@carson.u.washington.edu (John Whitm...</td>\n",
              "      <td>sci.electronics</td>\n",
              "    </tr>\n",
              "    <tr>\n",
              "      <th>4</th>\n",
              "      <td>ello name john and have the following comic bo...</td>\n",
              "      <td>iscsvax uni edu iscsvax uni edu iscsvax uni edu</td>\n",
              "      <td>****comic book sale****</td>\n",
              "      <td>From: oeth6050@iscsvax.uni.edu Subject: ****CO...</td>\n",
              "      <td>misc.forsale</td>\n",
              "    </tr>\n",
              "    <tr>\n",
              "      <th>...</th>\n",
              "      <td>...</td>\n",
              "      <td>...</td>\n",
              "      <td>...</td>\n",
              "      <td>...</td>\n",
              "      <td>...</td>\n",
              "    </tr>\n",
              "    <tr>\n",
              "      <th>18823</th>\n",
              "      <td>ate begets more hate never love consider some ...</td>\n",
              "      <td>world std  athos rutgers edu prism gatech edu</td>\n",
              "      <td>hate the sin...</td>\n",
              "      <td>From: pduggan@world.std.com (Paul C Duggan) Su...</td>\n",
              "      <td>soc.religion.christian</td>\n",
              "    </tr>\n",
              "    <tr>\n",
              "      <th>18824</th>\n",
              "      <td>article arromdee jyusenkyou jhu edu think many...</td>\n",
              "      <td>newton apple  blaze cs jhu edu jyusenkyou cs...</td>\n",
              "      <td>yet more rushdie [ islamic law]</td>\n",
              "      <td>From: sandvik@newton.apple.com (Kent Sandvik) ...</td>\n",
              "      <td>alt.atheism</td>\n",
              "    </tr>\n",
              "    <tr>\n",
              "      <th>18825</th>\n",
              "      <td>ould some one tell what har lap err the chip c...</td>\n",
              "      <td>spartan ac brocku ca nmt edu jupiter nmt edu...</td>\n",
              "      <td>help!  phar lap???</td>\n",
              "      <td>From: tmc@spartan.ac.BrockU.CA (Tim Ciceran) S...</td>\n",
              "      <td>comp.sys.ibm.pc.hardware</td>\n",
              "    </tr>\n",
              "    <tr>\n",
              "      <th>18826</th>\n",
              "      <td>abital planets are also dependent what kind pl...</td>\n",
              "      <td>ucsu colorado edu aurora alaska edu aurora a...</td>\n",
              "      <td>human habitale planets?</td>\n",
              "      <td>From: fcrary@ucsu.Colorado.EDU (Frank Crary) S...</td>\n",
              "      <td>sci.space</td>\n",
              "    </tr>\n",
              "    <tr>\n",
              "      <th>18827</th>\n",
              "      <td>window package exists that runs dos would very...</td>\n",
              "      <td>daimi aau dk</td>\n",
              "      <td>x-window for pc</td>\n",
              "      <td>From: eks@daimi.aau.dk (Eigil Krogh S|rensen) ...</td>\n",
              "      <td>comp.windows.x</td>\n",
              "    </tr>\n",
              "  </tbody>\n",
              "</table>\n",
              "<p>18828 rows × 5 columns</p>\n",
              "</div>\n",
              "      <button class=\"colab-df-convert\" onclick=\"convertToInteractive('df-07a9cc89-6ca7-4e0e-b84c-7afeea5e1faa')\"\n",
              "              title=\"Convert this dataframe to an interactive table.\"\n",
              "              style=\"display:none;\">\n",
              "        \n",
              "  <svg xmlns=\"http://www.w3.org/2000/svg\" height=\"24px\"viewBox=\"0 0 24 24\"\n",
              "       width=\"24px\">\n",
              "    <path d=\"M0 0h24v24H0V0z\" fill=\"none\"/>\n",
              "    <path d=\"M18.56 5.44l.94 2.06.94-2.06 2.06-.94-2.06-.94-.94-2.06-.94 2.06-2.06.94zm-11 1L8.5 8.5l.94-2.06 2.06-.94-2.06-.94L8.5 2.5l-.94 2.06-2.06.94zm10 10l.94 2.06.94-2.06 2.06-.94-2.06-.94-.94-2.06-.94 2.06-2.06.94z\"/><path d=\"M17.41 7.96l-1.37-1.37c-.4-.4-.92-.59-1.43-.59-.52 0-1.04.2-1.43.59L10.3 9.45l-7.72 7.72c-.78.78-.78 2.05 0 2.83L4 21.41c.39.39.9.59 1.41.59.51 0 1.02-.2 1.41-.59l7.78-7.78 2.81-2.81c.8-.78.8-2.07 0-2.86zM5.41 20L4 18.59l7.72-7.72 1.47 1.35L5.41 20z\"/>\n",
              "  </svg>\n",
              "      </button>\n",
              "      \n",
              "  <style>\n",
              "    .colab-df-container {\n",
              "      display:flex;\n",
              "      flex-wrap:wrap;\n",
              "      gap: 12px;\n",
              "    }\n",
              "\n",
              "    .colab-df-convert {\n",
              "      background-color: #E8F0FE;\n",
              "      border: none;\n",
              "      border-radius: 50%;\n",
              "      cursor: pointer;\n",
              "      display: none;\n",
              "      fill: #1967D2;\n",
              "      height: 32px;\n",
              "      padding: 0 0 0 0;\n",
              "      width: 32px;\n",
              "    }\n",
              "\n",
              "    .colab-df-convert:hover {\n",
              "      background-color: #E2EBFA;\n",
              "      box-shadow: 0px 1px 2px rgba(60, 64, 67, 0.3), 0px 1px 3px 1px rgba(60, 64, 67, 0.15);\n",
              "      fill: #174EA6;\n",
              "    }\n",
              "\n",
              "    [theme=dark] .colab-df-convert {\n",
              "      background-color: #3B4455;\n",
              "      fill: #D2E3FC;\n",
              "    }\n",
              "\n",
              "    [theme=dark] .colab-df-convert:hover {\n",
              "      background-color: #434B5C;\n",
              "      box-shadow: 0px 1px 3px 1px rgba(0, 0, 0, 0.15);\n",
              "      filter: drop-shadow(0px 1px 2px rgba(0, 0, 0, 0.3));\n",
              "      fill: #FFFFFF;\n",
              "    }\n",
              "  </style>\n",
              "\n",
              "      <script>\n",
              "        const buttonEl =\n",
              "          document.querySelector('#df-07a9cc89-6ca7-4e0e-b84c-7afeea5e1faa button.colab-df-convert');\n",
              "        buttonEl.style.display =\n",
              "          google.colab.kernel.accessAllowed ? 'block' : 'none';\n",
              "\n",
              "        async function convertToInteractive(key) {\n",
              "          const element = document.querySelector('#df-07a9cc89-6ca7-4e0e-b84c-7afeea5e1faa');\n",
              "          const dataTable =\n",
              "            await google.colab.kernel.invokeFunction('convertToInteractive',\n",
              "                                                     [key], {});\n",
              "          if (!dataTable) return;\n",
              "\n",
              "          const docLinkHtml = 'Like what you see? Visit the ' +\n",
              "            '<a target=\"_blank\" href=https://colab.research.google.com/notebooks/data_table.ipynb>data table notebook</a>'\n",
              "            + ' to learn more about interactive tables.';\n",
              "          element.innerHTML = '';\n",
              "          dataTable['output_type'] = 'display_data';\n",
              "          await google.colab.output.renderOutput(dataTable, element);\n",
              "          const docLink = document.createElement('div');\n",
              "          docLink.innerHTML = docLinkHtml;\n",
              "          element.appendChild(docLink);\n",
              "        }\n",
              "      </script>\n",
              "    </div>\n",
              "  </div>\n",
              "  "
            ],
            "text/plain": [
              "                                                    text  \\\n",
              "0      his was posted the firearms politics mailing l...   \n",
              "1      having problem with truetype fonts windows hav...   \n",
              "2      does the radio electronics free information ca...   \n",
              "3      uppose have boolean function which minimal sum...   \n",
              "4      ello name john and have the following comic bo...   \n",
              "...                                                  ...   \n",
              "18823  ate begets more hate never love consider some ...   \n",
              "18824  article arromdee jyusenkyou jhu edu think many...   \n",
              "18825  ould some one tell what har lap err the chip c...   \n",
              "18826  abital planets are also dependent what kind pl...   \n",
              "18827  window package exists that runs dos would very...   \n",
              "\n",
              "                                                email_id  \\\n",
              "0                hound dazixca ingr  hound dazixca ingr    \n",
              "1              gandalf fl bs dlr de gandalf fl bs dlr de   \n",
              "2        panix  acsu buffalo edu ubvmsb cc buffalo ed...   \n",
              "3        carson u washington edu ringer cs utsa edu r...   \n",
              "4        iscsvax uni edu iscsvax uni edu iscsvax uni edu   \n",
              "...                                                  ...   \n",
              "18823      world std  athos rutgers edu prism gatech edu   \n",
              "18824    newton apple  blaze cs jhu edu jyusenkyou cs...   \n",
              "18825    spartan ac brocku ca nmt edu jupiter nmt edu...   \n",
              "18826    ucsu colorado edu aurora alaska edu aurora a...   \n",
              "18827                                       daimi aau dk   \n",
              "\n",
              "                                       subject  \\\n",
              "0                   randy weaver trail - day 3   \n",
              "1         truetype font mix-up times=>cyrillic   \n",
              "2      radio electronics free information card   \n",
              "3                      minimal boolean circuit   \n",
              "4                      ****comic book sale****   \n",
              "...                                        ...   \n",
              "18823                          hate the sin...   \n",
              "18824          yet more rushdie [ islamic law]   \n",
              "18825                       help!  phar lap???   \n",
              "18826                  human habitale planets?   \n",
              "18827                          x-window for pc   \n",
              "\n",
              "                                                raw_text  \\\n",
              "0      From: crphilli@hound.dazixca.ingr.com (Ron Phi...   \n",
              "1      From: FL2G@gandalf.fl.bs.dlr.de (Reiner Suikat...   \n",
              "2      From: schuster@panix.com (Michael Schuster) Su...   \n",
              "3      From: whit@carson.u.washington.edu (John Whitm...   \n",
              "4      From: oeth6050@iscsvax.uni.edu Subject: ****CO...   \n",
              "...                                                  ...   \n",
              "18823  From: pduggan@world.std.com (Paul C Duggan) Su...   \n",
              "18824  From: sandvik@newton.apple.com (Kent Sandvik) ...   \n",
              "18825  From: tmc@spartan.ac.BrockU.CA (Tim Ciceran) S...   \n",
              "18826  From: fcrary@ucsu.Colorado.EDU (Frank Crary) S...   \n",
              "18827  From: eks@daimi.aau.dk (Eigil Krogh S|rensen) ...   \n",
              "\n",
              "                    class_label  \n",
              "0            talk.politics.guns  \n",
              "1       comp.os.ms-windows.misc  \n",
              "2               sci.electronics  \n",
              "3               sci.electronics  \n",
              "4                  misc.forsale  \n",
              "...                         ...  \n",
              "18823    soc.religion.christian  \n",
              "18824               alt.atheism  \n",
              "18825  comp.sys.ibm.pc.hardware  \n",
              "18826                 sci.space  \n",
              "18827            comp.windows.x  \n",
              "\n",
              "[18828 rows x 5 columns]"
            ]
          },
          "execution_count": 26,
          "metadata": {},
          "output_type": "execute_result"
        }
      ],
      "source": [
        "text_df = pd.read_csv(\"/content/drive/MyDrive/Mitesh/email_data_preprocess.csv\")\n",
        "text_df"
      ]
    },
    {
      "cell_type": "code",
      "execution_count": null,
      "metadata": {
        "id": "wYVefPtEbbWu"
      },
      "outputs": [],
      "source": [
        "text_df['subject'].replace({'[^A-Za-z_]' : ' '}, regex=True, inplace=True)    # remove special char from text"
      ]
    },
    {
      "cell_type": "code",
      "execution_count": null,
      "metadata": {
        "id": "6-qqGz8dTHw_"
      },
      "outputs": [],
      "source": [
        "text_df['combine'] = text_df['text'] + text_df[ 'subject'] + text_df['email_id']   # combine text, subject and email id"
      ]
    },
    {
      "cell_type": "code",
      "execution_count": null,
      "metadata": {
        "colab": {
          "base_uri": "https://localhost:8080/",
          "height": 641
        },
        "id": "IihIoNF5dIlg",
        "outputId": "f13ebbe6-18bf-4e8e-aa78-364e0cfa0aff"
      },
      "outputs": [
        {
          "data": {
            "text/html": [
              "\n",
              "  <div id=\"df-fd6d9b32-ee92-4ed6-bcd8-d7a16b421185\">\n",
              "    <div class=\"colab-df-container\">\n",
              "      <div>\n",
              "<style scoped>\n",
              "    .dataframe tbody tr th:only-of-type {\n",
              "        vertical-align: middle;\n",
              "    }\n",
              "\n",
              "    .dataframe tbody tr th {\n",
              "        vertical-align: top;\n",
              "    }\n",
              "\n",
              "    .dataframe thead th {\n",
              "        text-align: right;\n",
              "    }\n",
              "</style>\n",
              "<table border=\"1\" class=\"dataframe\">\n",
              "  <thead>\n",
              "    <tr style=\"text-align: right;\">\n",
              "      <th></th>\n",
              "      <th>text</th>\n",
              "      <th>email_id</th>\n",
              "      <th>subject</th>\n",
              "      <th>raw_text</th>\n",
              "      <th>class_label</th>\n",
              "      <th>combine</th>\n",
              "    </tr>\n",
              "  </thead>\n",
              "  <tbody>\n",
              "    <tr>\n",
              "      <th>0</th>\n",
              "      <td>his was posted the firearms politics mailing l...</td>\n",
              "      <td>hound dazixca ingr  hound dazixca ingr</td>\n",
              "      <td>randy weaver trail   day</td>\n",
              "      <td>From: crphilli@hound.dazixca.ingr.com (Ron Phi...</td>\n",
              "      <td>talk.politics.guns</td>\n",
              "      <td>his was posted the firearms politics mailing l...</td>\n",
              "    </tr>\n",
              "    <tr>\n",
              "      <th>1</th>\n",
              "      <td>having problem with truetype fonts windows hav...</td>\n",
              "      <td>gandalf fl bs dlr de gandalf fl bs dlr de</td>\n",
              "      <td>truetype font mix up times  cyrillic</td>\n",
              "      <td>From: FL2G@gandalf.fl.bs.dlr.de (Reiner Suikat...</td>\n",
              "      <td>comp.os.ms-windows.misc</td>\n",
              "      <td>having problem with truetype fonts windows hav...</td>\n",
              "    </tr>\n",
              "    <tr>\n",
              "      <th>2</th>\n",
              "      <td>does the radio electronics free information ca...</td>\n",
              "      <td>panix  acsu buffalo edu ubvmsb cc buffalo ed...</td>\n",
              "      <td>radio electronics free information card</td>\n",
              "      <td>From: schuster@panix.com (Michael Schuster) Su...</td>\n",
              "      <td>sci.electronics</td>\n",
              "      <td>does the radio electronics free information ca...</td>\n",
              "    </tr>\n",
              "    <tr>\n",
              "      <th>3</th>\n",
              "      <td>uppose have boolean function which minimal sum...</td>\n",
              "      <td>carson u washington edu ringer cs utsa edu r...</td>\n",
              "      <td>minimal boolean circuit</td>\n",
              "      <td>From: whit@carson.u.washington.edu (John Whitm...</td>\n",
              "      <td>sci.electronics</td>\n",
              "      <td>uppose have boolean function which minimal sum...</td>\n",
              "    </tr>\n",
              "    <tr>\n",
              "      <th>4</th>\n",
              "      <td>ello name john and have the following comic bo...</td>\n",
              "      <td>iscsvax uni edu iscsvax uni edu iscsvax uni edu</td>\n",
              "      <td>comic book sale</td>\n",
              "      <td>From: oeth6050@iscsvax.uni.edu Subject: ****CO...</td>\n",
              "      <td>misc.forsale</td>\n",
              "      <td>ello name john and have the following comic bo...</td>\n",
              "    </tr>\n",
              "    <tr>\n",
              "      <th>...</th>\n",
              "      <td>...</td>\n",
              "      <td>...</td>\n",
              "      <td>...</td>\n",
              "      <td>...</td>\n",
              "      <td>...</td>\n",
              "      <td>...</td>\n",
              "    </tr>\n",
              "    <tr>\n",
              "      <th>18823</th>\n",
              "      <td>ate begets more hate never love consider some ...</td>\n",
              "      <td>world std  athos rutgers edu prism gatech edu</td>\n",
              "      <td>hate the sin</td>\n",
              "      <td>From: pduggan@world.std.com (Paul C Duggan) Su...</td>\n",
              "      <td>soc.religion.christian</td>\n",
              "      <td>ate begets more hate never love consider some ...</td>\n",
              "    </tr>\n",
              "    <tr>\n",
              "      <th>18824</th>\n",
              "      <td>article arromdee jyusenkyou jhu edu think many...</td>\n",
              "      <td>newton apple  blaze cs jhu edu jyusenkyou cs...</td>\n",
              "      <td>yet more rushdie   islamic law</td>\n",
              "      <td>From: sandvik@newton.apple.com (Kent Sandvik) ...</td>\n",
              "      <td>alt.atheism</td>\n",
              "      <td>article arromdee jyusenkyou jhu edu think many...</td>\n",
              "    </tr>\n",
              "    <tr>\n",
              "      <th>18825</th>\n",
              "      <td>ould some one tell what har lap err the chip c...</td>\n",
              "      <td>spartan ac brocku ca nmt edu jupiter nmt edu...</td>\n",
              "      <td>help   phar lap</td>\n",
              "      <td>From: tmc@spartan.ac.BrockU.CA (Tim Ciceran) S...</td>\n",
              "      <td>comp.sys.ibm.pc.hardware</td>\n",
              "      <td>ould some one tell what har lap err the chip c...</td>\n",
              "    </tr>\n",
              "    <tr>\n",
              "      <th>18826</th>\n",
              "      <td>abital planets are also dependent what kind pl...</td>\n",
              "      <td>ucsu colorado edu aurora alaska edu aurora a...</td>\n",
              "      <td>human habitale planets</td>\n",
              "      <td>From: fcrary@ucsu.Colorado.EDU (Frank Crary) S...</td>\n",
              "      <td>sci.space</td>\n",
              "      <td>abital planets are also dependent what kind pl...</td>\n",
              "    </tr>\n",
              "    <tr>\n",
              "      <th>18827</th>\n",
              "      <td>window package exists that runs dos would very...</td>\n",
              "      <td>daimi aau dk</td>\n",
              "      <td>x window for pc</td>\n",
              "      <td>From: eks@daimi.aau.dk (Eigil Krogh S|rensen) ...</td>\n",
              "      <td>comp.windows.x</td>\n",
              "      <td>window package exists that runs dos would very...</td>\n",
              "    </tr>\n",
              "  </tbody>\n",
              "</table>\n",
              "<p>18828 rows × 6 columns</p>\n",
              "</div>\n",
              "      <button class=\"colab-df-convert\" onclick=\"convertToInteractive('df-fd6d9b32-ee92-4ed6-bcd8-d7a16b421185')\"\n",
              "              title=\"Convert this dataframe to an interactive table.\"\n",
              "              style=\"display:none;\">\n",
              "        \n",
              "  <svg xmlns=\"http://www.w3.org/2000/svg\" height=\"24px\"viewBox=\"0 0 24 24\"\n",
              "       width=\"24px\">\n",
              "    <path d=\"M0 0h24v24H0V0z\" fill=\"none\"/>\n",
              "    <path d=\"M18.56 5.44l.94 2.06.94-2.06 2.06-.94-2.06-.94-.94-2.06-.94 2.06-2.06.94zm-11 1L8.5 8.5l.94-2.06 2.06-.94-2.06-.94L8.5 2.5l-.94 2.06-2.06.94zm10 10l.94 2.06.94-2.06 2.06-.94-2.06-.94-.94-2.06-.94 2.06-2.06.94z\"/><path d=\"M17.41 7.96l-1.37-1.37c-.4-.4-.92-.59-1.43-.59-.52 0-1.04.2-1.43.59L10.3 9.45l-7.72 7.72c-.78.78-.78 2.05 0 2.83L4 21.41c.39.39.9.59 1.41.59.51 0 1.02-.2 1.41-.59l7.78-7.78 2.81-2.81c.8-.78.8-2.07 0-2.86zM5.41 20L4 18.59l7.72-7.72 1.47 1.35L5.41 20z\"/>\n",
              "  </svg>\n",
              "      </button>\n",
              "      \n",
              "  <style>\n",
              "    .colab-df-container {\n",
              "      display:flex;\n",
              "      flex-wrap:wrap;\n",
              "      gap: 12px;\n",
              "    }\n",
              "\n",
              "    .colab-df-convert {\n",
              "      background-color: #E8F0FE;\n",
              "      border: none;\n",
              "      border-radius: 50%;\n",
              "      cursor: pointer;\n",
              "      display: none;\n",
              "      fill: #1967D2;\n",
              "      height: 32px;\n",
              "      padding: 0 0 0 0;\n",
              "      width: 32px;\n",
              "    }\n",
              "\n",
              "    .colab-df-convert:hover {\n",
              "      background-color: #E2EBFA;\n",
              "      box-shadow: 0px 1px 2px rgba(60, 64, 67, 0.3), 0px 1px 3px 1px rgba(60, 64, 67, 0.15);\n",
              "      fill: #174EA6;\n",
              "    }\n",
              "\n",
              "    [theme=dark] .colab-df-convert {\n",
              "      background-color: #3B4455;\n",
              "      fill: #D2E3FC;\n",
              "    }\n",
              "\n",
              "    [theme=dark] .colab-df-convert:hover {\n",
              "      background-color: #434B5C;\n",
              "      box-shadow: 0px 1px 3px 1px rgba(0, 0, 0, 0.15);\n",
              "      filter: drop-shadow(0px 1px 2px rgba(0, 0, 0, 0.3));\n",
              "      fill: #FFFFFF;\n",
              "    }\n",
              "  </style>\n",
              "\n",
              "      <script>\n",
              "        const buttonEl =\n",
              "          document.querySelector('#df-fd6d9b32-ee92-4ed6-bcd8-d7a16b421185 button.colab-df-convert');\n",
              "        buttonEl.style.display =\n",
              "          google.colab.kernel.accessAllowed ? 'block' : 'none';\n",
              "\n",
              "        async function convertToInteractive(key) {\n",
              "          const element = document.querySelector('#df-fd6d9b32-ee92-4ed6-bcd8-d7a16b421185');\n",
              "          const dataTable =\n",
              "            await google.colab.kernel.invokeFunction('convertToInteractive',\n",
              "                                                     [key], {});\n",
              "          if (!dataTable) return;\n",
              "\n",
              "          const docLinkHtml = 'Like what you see? Visit the ' +\n",
              "            '<a target=\"_blank\" href=https://colab.research.google.com/notebooks/data_table.ipynb>data table notebook</a>'\n",
              "            + ' to learn more about interactive tables.';\n",
              "          element.innerHTML = '';\n",
              "          dataTable['output_type'] = 'display_data';\n",
              "          await google.colab.output.renderOutput(dataTable, element);\n",
              "          const docLink = document.createElement('div');\n",
              "          docLink.innerHTML = docLinkHtml;\n",
              "          element.appendChild(docLink);\n",
              "        }\n",
              "      </script>\n",
              "    </div>\n",
              "  </div>\n",
              "  "
            ],
            "text/plain": [
              "                                                    text  \\\n",
              "0      his was posted the firearms politics mailing l...   \n",
              "1      having problem with truetype fonts windows hav...   \n",
              "2      does the radio electronics free information ca...   \n",
              "3      uppose have boolean function which minimal sum...   \n",
              "4      ello name john and have the following comic bo...   \n",
              "...                                                  ...   \n",
              "18823  ate begets more hate never love consider some ...   \n",
              "18824  article arromdee jyusenkyou jhu edu think many...   \n",
              "18825  ould some one tell what har lap err the chip c...   \n",
              "18826  abital planets are also dependent what kind pl...   \n",
              "18827  window package exists that runs dos would very...   \n",
              "\n",
              "                                                email_id  \\\n",
              "0                hound dazixca ingr  hound dazixca ingr    \n",
              "1              gandalf fl bs dlr de gandalf fl bs dlr de   \n",
              "2        panix  acsu buffalo edu ubvmsb cc buffalo ed...   \n",
              "3        carson u washington edu ringer cs utsa edu r...   \n",
              "4        iscsvax uni edu iscsvax uni edu iscsvax uni edu   \n",
              "...                                                  ...   \n",
              "18823      world std  athos rutgers edu prism gatech edu   \n",
              "18824    newton apple  blaze cs jhu edu jyusenkyou cs...   \n",
              "18825    spartan ac brocku ca nmt edu jupiter nmt edu...   \n",
              "18826    ucsu colorado edu aurora alaska edu aurora a...   \n",
              "18827                                       daimi aau dk   \n",
              "\n",
              "                                       subject  \\\n",
              "0                   randy weaver trail   day     \n",
              "1         truetype font mix up times  cyrillic   \n",
              "2      radio electronics free information card   \n",
              "3                      minimal boolean circuit   \n",
              "4                          comic book sale       \n",
              "...                                        ...   \n",
              "18823                          hate the sin      \n",
              "18824          yet more rushdie   islamic law    \n",
              "18825                       help   phar lap      \n",
              "18826                  human habitale planets    \n",
              "18827                          x window for pc   \n",
              "\n",
              "                                                raw_text  \\\n",
              "0      From: crphilli@hound.dazixca.ingr.com (Ron Phi...   \n",
              "1      From: FL2G@gandalf.fl.bs.dlr.de (Reiner Suikat...   \n",
              "2      From: schuster@panix.com (Michael Schuster) Su...   \n",
              "3      From: whit@carson.u.washington.edu (John Whitm...   \n",
              "4      From: oeth6050@iscsvax.uni.edu Subject: ****CO...   \n",
              "...                                                  ...   \n",
              "18823  From: pduggan@world.std.com (Paul C Duggan) Su...   \n",
              "18824  From: sandvik@newton.apple.com (Kent Sandvik) ...   \n",
              "18825  From: tmc@spartan.ac.BrockU.CA (Tim Ciceran) S...   \n",
              "18826  From: fcrary@ucsu.Colorado.EDU (Frank Crary) S...   \n",
              "18827  From: eks@daimi.aau.dk (Eigil Krogh S|rensen) ...   \n",
              "\n",
              "                    class_label  \\\n",
              "0            talk.politics.guns   \n",
              "1       comp.os.ms-windows.misc   \n",
              "2               sci.electronics   \n",
              "3               sci.electronics   \n",
              "4                  misc.forsale   \n",
              "...                         ...   \n",
              "18823    soc.religion.christian   \n",
              "18824               alt.atheism   \n",
              "18825  comp.sys.ibm.pc.hardware   \n",
              "18826                 sci.space   \n",
              "18827            comp.windows.x   \n",
              "\n",
              "                                                 combine  \n",
              "0      his was posted the firearms politics mailing l...  \n",
              "1      having problem with truetype fonts windows hav...  \n",
              "2      does the radio electronics free information ca...  \n",
              "3      uppose have boolean function which minimal sum...  \n",
              "4      ello name john and have the following comic bo...  \n",
              "...                                                  ...  \n",
              "18823  ate begets more hate never love consider some ...  \n",
              "18824  article arromdee jyusenkyou jhu edu think many...  \n",
              "18825  ould some one tell what har lap err the chip c...  \n",
              "18826  abital planets are also dependent what kind pl...  \n",
              "18827  window package exists that runs dos would very...  \n",
              "\n",
              "[18828 rows x 6 columns]"
            ]
          },
          "execution_count": 7,
          "metadata": {},
          "output_type": "execute_result"
        }
      ],
      "source": [
        "text_df"
      ]
    },
    {
      "cell_type": "code",
      "execution_count": null,
      "metadata": {
        "id": "wt5nvuAye3oo"
      },
      "outputs": [],
      "source": [
        "# check nan values in dataset\n",
        "text_df.dropna(inplace=True)"
      ]
    },
    {
      "cell_type": "code",
      "execution_count": null,
      "metadata": {
        "colab": {
          "base_uri": "https://localhost:8080/"
        },
        "id": "iEfQPV2Ce9ou",
        "outputId": "9ab46118-0d27-41a5-f2c6-b6edb3e2c1bb"
      },
      "outputs": [
        {
          "data": {
            "text/plain": [
              "(18789, 6)"
            ]
          },
          "execution_count": 9,
          "metadata": {},
          "output_type": "execute_result"
        }
      ],
      "source": [
        "text_df.shape"
      ]
    },
    {
      "cell_type": "code",
      "execution_count": null,
      "metadata": {
        "id": "00rKdpoqbMv0"
      },
      "outputs": [],
      "source": [
        "# text_df.to_csv(\"/content/drive/MyDrive/email_data_preprocess2.csv\", index=False)"
      ]
    },
    {
      "cell_type": "code",
      "execution_count": null,
      "metadata": {
        "colab": {
          "base_uri": "https://localhost:8080/"
        },
        "id": "OJj7Dj5fTfTt",
        "outputId": "00b9151e-c145-4891-dcf4-60d67859259d"
      },
      "outputs": [
        {
          "name": "stdout",
          "output_type": "stream",
          "text": [
            "(14091, 1) (14091,)\n",
            "(4698, 1) (4698,)\n"
          ]
        }
      ],
      "source": [
        "x_train, x_test, y_train, y_test = train_test_split(text_df['combine'], text_df['class_label'], test_size = 0.25, stratify = text_df['class_label'])\n",
        "\n",
        "print(x_train.values.reshape(-1,1).shape, y_train.shape)\n",
        "print(x_test.values.reshape(-1,1).shape, y_test.shape)"
      ]
    },
    {
      "cell_type": "code",
      "execution_count": null,
      "metadata": {
        "colab": {
          "base_uri": "https://localhost:8080/"
        },
        "id": "2D712wq9Ttk3",
        "outputId": "5aa49c13-aa24-4fbe-80e8-f622402b1eea"
      },
      "outputs": [
        {
          "name": "stdout",
          "output_type": "stream",
          "text": [
            "Length of the tokeniser :  135503\n",
            "Squence Length :  14091\n",
            "padding :  30000\n"
          ]
        },
        {
          "data": {
            "text/plain": [
              "((14091, 30000), (4698, 30000))"
            ]
          },
          "execution_count": 68,
          "metadata": {},
          "output_type": "execute_result"
        }
      ],
      "source": [
        "max_len = 30000\n",
        "\n",
        "tokeniser = tf.keras.preprocessing.text.Tokenizer(num_words= 30000, filters='!\"#$%&()*+,-./:;//~<=>?@[\\\\]^`{|}~\\t\\n', lower=True, split=\" \", char_level=False, oov_token=None)\n",
        "\n",
        "# convert text into tokens\n",
        "tokeniser_text_train = tokeniser.fit_on_texts(x_train)\n",
        "print('Length of the tokeniser : ', len(tokeniser.word_index))\n",
        "\n",
        "# convert text into seq\n",
        "sequence_train = tokeniser.texts_to_sequences(x_train)\n",
        "sequence_test = tokeniser.texts_to_sequences(x_test)\n",
        "print('Squence Length : ',len(sequence_train))\n",
        "\n",
        "padding_train = tf.keras.preprocessing.sequence.pad_sequences(sequence_train, maxlen = max_len, padding='post')\n",
        "padding_test = tf.keras.preprocessing.sequence.pad_sequences(sequence_test, maxlen = max_len, padding='post')\n",
        "\n",
        "print('padding : ', len(padding_test[0]))\n",
        "padding_train.shape, padding_test.shape\n"
      ]
    },
    {
      "cell_type": "code",
      "execution_count": null,
      "metadata": {
        "colab": {
          "base_uri": "https://localhost:8080/"
        },
        "id": "jmqog89ET4Ur",
        "outputId": "af71d713-18fc-4191-b14f-1c728a9304b0"
      },
      "outputs": [
        {
          "name": "stdout",
          "output_type": "stream",
          "text": [
            "['alt.atheism' 'comp.graphics' 'comp.os.ms-windows.misc'\n",
            " 'comp.sys.ibm.pc.hardware' 'comp.sys.mac.hardware' 'comp.windows.x'\n",
            " 'misc.forsale' 'rec.autos' 'rec.motorcycles' 'rec.sport.baseball'\n",
            " 'rec.sport.hockey' 'sci.crypt' 'sci.electronics' 'sci.med' 'sci.space'\n",
            " 'soc.religion.christian' 'talk.politics.guns' 'talk.politics.mideast'\n",
            " 'talk.politics.misc' 'talk.religion.misc']\n",
            "(array([ 0,  1,  2,  3,  4,  5,  6,  7,  8,  9, 10, 11, 12, 13, 14, 15, 16,\n",
            "       17, 18, 19]), array([599, 727, 735, 734, 717, 733, 722, 740, 745, 745, 748, 743, 736,\n",
            "       741, 739, 748, 682, 705, 581, 471]))\n",
            "(array([ 0,  1,  2,  3,  4,  5,  6,  7,  8,  9, 10, 11, 12, 13, 14, 15, 16,\n",
            "       17, 18, 19]), array([199, 243, 245, 245, 239, 245, 240, 247, 248, 248, 250, 248, 245,\n",
            "       247, 247, 249, 227, 235, 194, 157]))\n",
            "Shape of label tensor: (14091, 20)\n",
            "Shape of label tensor: (4698, 20)\n"
          ]
        }
      ],
      "source": [
        "#https://stackoverflow.com/questions/49995700/multi-label-text-classification-i-have-a-text-label\u0002csv-text-is-pure-text-lab\n",
        "\n",
        "train_labels = y_train\n",
        "test_labels = y_test\n",
        "\n",
        "le = LabelEncoder()\n",
        "le.fit(train_labels.tolist() + test_labels.tolist())\n",
        "train_labels = le.transform(train_labels)\n",
        "test_labels = le.transform(test_labels)\n",
        "\n",
        "print(le.classes_)\n",
        "print(np.unique(train_labels, return_counts=True))\n",
        "print(np.unique(test_labels, return_counts=True))\n",
        "\n",
        "labels_train = to_categorical(np.asanyarray(train_labels))\n",
        "labels_test = to_categorical(np.asarray(test_labels))\n",
        "\n",
        "print('Shape of label tensor:', labels_train.shape)\n",
        "print('Shape of label tensor:', labels_test.shape)"
      ]
    },
    {
      "cell_type": "code",
      "execution_count": null,
      "metadata": {
        "colab": {
          "base_uri": "https://localhost:8080/",
          "height": 66,
          "referenced_widgets": [
            "3c742133255f4d99b0458dfe1ab2d897",
            "8cebdfcfc3494769bc1573ec75406f09",
            "c6bd3dc984384481b36e7ade4392be59",
            "3a4a141fbbfb4a598cbde1a2e21dc730",
            "89f5b269f44c4ab89754340eae413daf",
            "cfabf5b9d13d4ce9b5f3a719114b8fc9",
            "6a2f8f4f95db4d26a481f4bee341269f",
            "b675a4602a664f0284afff8a59cef526",
            "5aa96acd53954baabffe1fe62fb32892",
            "f91372cb98ed4595bf12238103ab1393",
            "3e0cd29319e0406f86338d0f19364ef0"
          ]
        },
        "id": "94uskNOFUEU6",
        "outputId": "f246a2ec-3176-4ff7-94b3-e758c9290f5d"
      },
      "outputs": [
        {
          "data": {
            "application/vnd.jupyter.widget-view+json": {
              "model_id": "3c742133255f4d99b0458dfe1ab2d897",
              "version_major": 2,
              "version_minor": 0
            },
            "text/plain": [
              "0it [00:00, ?it/s]"
            ]
          },
          "metadata": {},
          "output_type": "display_data"
        },
        {
          "name": "stdout",
          "output_type": "stream",
          "text": [
            "Found 400000 word vectors.\n"
          ]
        }
      ],
      "source": [
        "########## Create emebdding matrix ###########\n",
        "\n",
        "embeddings_index = {}\n",
        "f = open(os.path.join('/content/glove/glove.6B.300d.txt'))\n",
        "for line in tqdm(f):\n",
        "    values = line.split()\n",
        "    word = values[0]\n",
        "    coefs = np.asarray(values[1:], dtype='float32')\n",
        "    embeddings_index[word] = coefs\n",
        "\n",
        "f.close()\n",
        "print('Found %s word vectors.' % len(embeddings_index))"
      ]
    },
    {
      "cell_type": "code",
      "execution_count": null,
      "metadata": {
        "colab": {
          "base_uri": "https://localhost:8080/",
          "height": 49,
          "referenced_widgets": [
            "2d5557be28064e2da2554f6ec0217725",
            "3723eac155bb4718863c396d33583296",
            "659245ed65684b37bb4b59fc5b1de185",
            "0945a9790a744cd1985890cca17fb2a2",
            "ef6a084d329c45879049f5bc6e46f8e8",
            "62b221a5674a4ce6a58aabf7dff2a8df",
            "0bb845e8392a4707b18f76acee9fc702",
            "964f5645fe134ba09c5435f6ed8c8752",
            "ccc8cd6f69b1479c924ffa9bdb5e1f9d",
            "53191f9e9b994784bf2ebc2cbf7a2553",
            "e7bdc26ebc0843f59327b47ae253dae2"
          ]
        },
        "id": "46BLROcPWBn0",
        "outputId": "afa9dcae-e13c-4c2f-dfb9-5e9bcda1346e"
      },
      "outputs": [
        {
          "data": {
            "application/vnd.jupyter.widget-view+json": {
              "model_id": "2d5557be28064e2da2554f6ec0217725",
              "version_major": 2,
              "version_minor": 0
            },
            "text/plain": [
              "  0%|          | 0/135503 [00:00<?, ?it/s]"
            ]
          },
          "metadata": {},
          "output_type": "display_data"
        }
      ],
      "source": [
        "word_index = tokeniser.word_index\n",
        "embedding_matrix = np.zeros((len(word_index) + 1, 300))\n",
        "\n",
        "for word, i in tqdm(word_index.items()):\n",
        "    embedding_vector = embeddings_index.get(word)\n",
        "    if embedding_vector is not None:\n",
        "    # words not found in embedding index will be all-zeros.\n",
        "        embedding_matrix[i] = embedding_vector"
      ]
    },
    {
      "cell_type": "code",
      "execution_count": null,
      "metadata": {
        "id": "tSUBdEpEWcB0"
      },
      "outputs": [],
      "source": [
        "########### create emebdding layer ############\n",
        "\n",
        "embedding_layer = Embedding(len(word_index) + 1, \n",
        "                            300,\n",
        "                            weights=[embedding_matrix],\n",
        "                            input_length= max_len,\n",
        "                            trainable=False)"
      ]
    },
    {
      "cell_type": "code",
      "execution_count": null,
      "metadata": {
        "id": "5j2qgTVPitFh"
      },
      "outputs": [],
      "source": [
        "# https://datascience.stackexchange.com/questions/45165/how-to-get-accuracy-f1-precision-and-recall-for-a-keras-model\n",
        "\n",
        "def f1(y_true, y_pred):\n",
        "    true_positives = K.sum(K.round(K.clip(y_true * y_pred, 0, 1)))\n",
        "    possible_positives = K.sum(K.round(K.clip(y_true, 0, 1)))\n",
        "    predicted_positives = K.sum(K.round(K.clip(y_pred, 0, 1)))\n",
        "    precision = true_positives / (predicted_positives + K.epsilon())\n",
        "    recall = true_positives / (possible_positives + K.epsilon())\n",
        "    f1_val = 2*(precision*recall)/(precision+recall+K.epsilon())\n",
        "    return f1_val"
      ]
    },
    {
      "cell_type": "code",
      "execution_count": null,
      "metadata": {
        "colab": {
          "base_uri": "https://localhost:8080/"
        },
        "id": "w8F-spbPglBA",
        "outputId": "a327f959-4942-4593-fc41-8a6d4e33020a"
      },
      "outputs": [
        {
          "name": "stdout",
          "output_type": "stream",
          "text": [
            "Model: \"model_6\"\n",
            "__________________________________________________________________________________________________\n",
            " Layer (type)                   Output Shape         Param #     Connected to                     \n",
            "==================================================================================================\n",
            " input_8 (InputLayer)           [(None, 30000)]      0           []                               \n",
            "                                                                                                  \n",
            " embedding_3 (Embedding)        (None, 30000, 300)   40651200    ['input_8[0][0]']                \n",
            "                                                                                                  \n",
            " conv1d_42 (Conv1D)             (None, 30000, 25)    22525       ['embedding_3[1][0]']            \n",
            "                                                                                                  \n",
            " conv1d_43 (Conv1D)             (None, 30000, 35)    31535       ['embedding_3[1][0]']            \n",
            "                                                                                                  \n",
            " conv1d_44 (Conv1D)             (None, 30000, 39)    58539       ['embedding_3[1][0]']            \n",
            "                                                                                                  \n",
            " concatenate_12 (Concatenate)   (None, 30000, 99)    0           ['conv1d_42[0][0]',              \n",
            "                                                                  'conv1d_43[0][0]',              \n",
            "                                                                  'conv1d_44[0][0]']              \n",
            "                                                                                                  \n",
            " max_pooling1d_12 (MaxPooling1D  (None, 30000, 99)   0           ['concatenate_12[0][0]']         \n",
            " )                                                                                                \n",
            "                                                                                                  \n",
            " conv1d_45 (Conv1D)             (None, 30000, 6)     1788        ['max_pooling1d_12[0][0]']       \n",
            "                                                                                                  \n",
            " conv1d_46 (Conv1D)             (None, 30000, 4)     1192        ['max_pooling1d_12[0][0]']       \n",
            "                                                                                                  \n",
            " conv1d_47 (Conv1D)             (None, 30000, 8)     3968        ['max_pooling1d_12[0][0]']       \n",
            "                                                                                                  \n",
            " concatenate_13 (Concatenate)   (None, 30000, 18)    0           ['conv1d_45[0][0]',              \n",
            "                                                                  'conv1d_46[0][0]',              \n",
            "                                                                  'conv1d_47[0][0]']              \n",
            "                                                                                                  \n",
            " max_pooling1d_13 (MaxPooling1D  (None, 30000, 18)   0           ['concatenate_13[0][0]']         \n",
            " )                                                                                                \n",
            "                                                                                                  \n",
            " conv1d_48 (Conv1D)             (None, 30000, 12)    1092        ['max_pooling1d_13[0][0]']       \n",
            "                                                                                                  \n",
            " flatten_6 (Flatten)            (None, 360000)       0           ['conv1d_48[0][0]']              \n",
            "                                                                                                  \n",
            " dropout_12 (Dropout)           (None, 360000)       0           ['flatten_6[0][0]']              \n",
            "                                                                                                  \n",
            " dropout_13 (Dropout)           (None, 360000)       0           ['dropout_12[0][0]']             \n",
            "                                                                                                  \n",
            " dense_18 (Dense)               (None, 64)           23040064    ['dropout_13[0][0]']             \n",
            "                                                                                                  \n",
            " dense_19 (Dense)               (None, 32)           2080        ['dense_18[0][0]']               \n",
            "                                                                                                  \n",
            " dense_20 (Dense)               (None, 20)           660         ['dense_19[0][0]']               \n",
            "                                                                                                  \n",
            "==================================================================================================\n",
            "Total params: 63,814,643\n",
            "Trainable params: 23,163,443\n",
            "Non-trainable params: 40,651,200\n",
            "__________________________________________________________________________________________________\n"
          ]
        }
      ],
      "source": [
        "sequence_input = Input(shape=(max_len,))\n",
        "\n",
        "#embedding\n",
        "embedding = embedding_layer(sequence_input)\n",
        "\n",
        "# 3 CNN layer\n",
        "cnn1 = tf.keras.layers.Conv1D(filters = 25, kernel_size = 3, strides=1, padding= \"same\", \n",
        "                              data_format=\"channels_last\", activation = 'relu',\n",
        "                              kernel_regularizer= regularizers.l2(0.01))(embedding)\n",
        "\n",
        "cnn2 = tf.keras.layers.Conv1D(filters = 35, kernel_size = 3, strides=1, padding= \"same\",\n",
        "                              data_format=\"channels_last\",activation = 'relu',\n",
        "                              kernel_regularizer= regularizers.l2(0.01))(embedding)\n",
        "\n",
        "cnn3 = tf.keras.layers.Conv1D(filters = 39, kernel_size = 5, strides=1, padding=\"same\", \n",
        "                              data_format=\"channels_last\",activation = 'relu',\n",
        "                              kernel_regularizer= regularizers.l2(0.01))(embedding)\n",
        "\n",
        "#Concate the 3 CNN layer andmaxpool layer\n",
        "cnn1_concate = concatenate([cnn1,cnn2, cnn3])\n",
        "max_pool1 = tf.keras.layers.MaxPooling1D(pool_size=10, strides=1, padding=\"same\", \n",
        "                                         data_format=\"channels_last\")(cnn1_concate)\n",
        "\n",
        "\n",
        "# 3 CNN layer\n",
        "cnn4 = tf.keras.layers.Conv1D(filters = 6, kernel_size = 3, strides=1, padding=\"same\", data_format=\"channels_last\",\n",
        "                              activation = 'relu',kernel_regularizer= regularizers.l2(0.01))(max_pool1)\n",
        "\n",
        "cnn5 = tf.keras.layers.Conv1D(filters = 4, kernel_size = 3, strides=1, padding=\"same\", data_format=\"channels_last\",\n",
        "                              activation = 'relu',kernel_regularizer= regularizers.l2(0.01))(max_pool1)\n",
        "\n",
        "cnn6 = tf.keras.layers.Conv1D(filters = 8, kernel_size = 5, strides=1, padding=\"same\", data_format=\"channels_last\",\n",
        "                              activation = 'relu',kernel_regularizer= regularizers.l2(0.01))(max_pool1)\n",
        "\n",
        "\n",
        "#Concate the 3 CNN layer and maxpool layer\n",
        "cnn2_concate = concatenate([cnn4,cnn5, cnn6])\n",
        "max_pool2 = tf.keras.layers.MaxPooling1D(pool_size=15, strides=1, padding=\"same\", \n",
        "                                         data_format=\"channels_last\")(cnn2_concate)\n",
        "\n",
        "# 1 CNN layer\n",
        "cnn7 = tf.keras.layers.Conv1D(filters = 12, kernel_size = 5, strides=1, padding=\"same\", data_format=\"channels_last\",\n",
        "                              activation = 'relu', kernel_regularizer= regularizers.l2(0.01))(max_pool2)\n",
        "\n",
        "#Flatten layer\n",
        "flatten1 = tf.keras.layers.Flatten()(cnn7)\n",
        "# 2 Dropout layer\n",
        "dp1 = tf.keras.layers.Dropout(0.3, seed = 10)(flatten1)\n",
        "dp2 = tf.keras.layers.Dropout(0.2, seed = 10)(dp1)\n",
        "\n",
        "dense1 = tf.keras.layers.Dense(64, activation= 'relu')(dp2)\n",
        "dense2 = tf.keras.layers.Dense(32, activation= 'relu')(dense1)\n",
        "\n",
        "#Outpur layer\n",
        "output = tf.keras.layers.Dense(20, activation = 'softmax')(dense2)\n",
        "model = tf.keras.Model(inputs=[sequence_input], outputs=[output])\n",
        "\n",
        "model.summary()"
      ]
    },
    {
      "cell_type": "code",
      "execution_count": null,
      "metadata": {
        "colab": {
          "base_uri": "https://localhost:8080/",
          "height": 1000
        },
        "id": "LM_KRJqTi6Ad",
        "outputId": "57086123-e69d-4938-adc9-7f11fbe41311"
      },
      "outputs": [
        {
          "data": {
            "image/png": "[encoded data removed]",
            "text/plain": [
              "<IPython.core.display.Image object>"
            ]
          },
          "execution_count": 91,
          "metadata": {},
          "output_type": "execute_result"
        }
      ],
      "source": [
        "tf.keras.utils.plot_model(model, to_file='model1 -text classification .png', \n",
        "                          show_shapes= True,show_layer_names=True,rankdir='TB', \n",
        "                          expand_nested=False, dpi=96)\n"
      ]
    },
    {
      "cell_type": "code",
      "execution_count": null,
      "metadata": {
        "id": "Bz9jI6wKiUWN"
      },
      "outputs": [],
      "source": [
        "!rm -rf ./logs1/\n",
        "os.chdir(\"/content\")\n",
        "!mkdir 'logs1'\n",
        "log_dir = \"/content/logs1/fit/\" + datetime.datetime.now().strftime(\"%Y%m%d-%H%M%S\")"
      ]
    },
    {
      "cell_type": "code",
      "execution_count": null,
      "metadata": {
        "id": "RIB1vAu5iarA"
      },
      "outputs": [],
      "source": [
        "tensor = tf.keras.callbacks.TensorBoard(log_dir = log_dir, histogram_freq=1, write_graph = True, write_images = True, update_freq = 1)"
      ]
    },
    {
      "cell_type": "code",
      "execution_count": null,
      "metadata": {
        "id": "fHvJwv4WibJp"
      },
      "outputs": [],
      "source": [
        "earlystop_callback = tf.keras.callbacks.EarlyStopping(monitor='val_accuracy', min_delta=0, patience=4, \n",
        "                                                      verbose=0, mode='max', baseline=None, restore_best_weights=False)"
      ]
    },
    {
      "cell_type": "code",
      "execution_count": null,
      "metadata": {
        "id": "tf4FViZnikp-"
      },
      "outputs": [],
      "source": [
        "model.compile(optimizer=tf.keras.optimizers.Adam(learning_rate=0.001),loss='categorical_crossentropy', metrics=['accuracy', f1])\n"
      ]
    },
    {
      "cell_type": "code",
      "execution_count": null,
      "metadata": {
        "colab": {
          "base_uri": "https://localhost:8080/"
        },
        "id": "eOK0ca5uiyYM",
        "outputId": "835a92c2-b2f5-450f-8cff-6fbd667aa99e"
      },
      "outputs": [
        {
          "name": "stdout",
          "output_type": "stream",
          "text": [
            "Epoch 1/30\n",
            "441/441 [==============================] - 41s 88ms/step - loss: 2.5730 - accuracy: 0.2534 - f1: 0.1381 - val_loss: 1.8443 - val_accuracy: 0.4442 - val_f1: 0.2988\n",
            "Epoch 2/30\n",
            "441/441 [==============================] - 38s 86ms/step - loss: 1.5304 - accuracy: 0.5589 - f1: 0.5121 - val_loss: 1.4618 - val_accuracy: 0.6088 - val_f1: 0.5282\n",
            "Epoch 3/30\n",
            "441/441 [==============================] - 38s 86ms/step - loss: 1.3081 - accuracy: 0.6459 - f1: 0.6097 - val_loss: 1.3933 - val_accuracy: 0.6484 - val_f1: 0.5604\n",
            "Epoch 4/30\n",
            "441/441 [==============================] - 38s 87ms/step - loss: 1.1826 - accuracy: 0.6985 - f1: 0.6767 - val_loss: 1.3118 - val_accuracy: 0.6897 - val_f1: 0.6455\n",
            "Epoch 5/30\n",
            "441/441 [==============================] - 38s 87ms/step - loss: 1.0861 - accuracy: 0.7373 - f1: 0.7278 - val_loss: 1.3058 - val_accuracy: 0.6977 - val_f1: 0.6543\n",
            "Epoch 6/30\n",
            "441/441 [==============================] - 38s 87ms/step - loss: 1.0229 - accuracy: 0.7716 - f1: 0.7648 - val_loss: 1.3078 - val_accuracy: 0.6980 - val_f1: 0.6751\n",
            "Epoch 7/30\n",
            "441/441 [==============================] - 38s 87ms/step - loss: 0.9734 - accuracy: 0.7872 - f1: 0.7865 - val_loss: 1.2844 - val_accuracy: 0.7160 - val_f1: 0.7071\n",
            "Epoch 8/30\n",
            "441/441 [==============================] - 38s 87ms/step - loss: 0.9334 - accuracy: 0.8080 - f1: 0.8045 - val_loss: 1.2954 - val_accuracy: 0.7244 - val_f1: 0.7158\n",
            "Epoch 9/30\n",
            "441/441 [==============================] - 38s 87ms/step - loss: 0.9189 - accuracy: 0.8126 - f1: 0.8115 - val_loss: 1.2822 - val_accuracy: 0.7280 - val_f1: 0.7266\n",
            "Epoch 10/30\n",
            "441/441 [==============================] - 38s 86ms/step - loss: 0.8785 - accuracy: 0.8312 - f1: 0.8305 - val_loss: 1.2471 - val_accuracy: 0.7295 - val_f1: 0.7342\n",
            "Epoch 11/30\n",
            "441/441 [==============================] - 38s 86ms/step - loss: 0.8687 - accuracy: 0.8373 - f1: 0.8367 - val_loss: 1.2862 - val_accuracy: 0.7305 - val_f1: 0.7310\n",
            "Epoch 12/30\n",
            "441/441 [==============================] - 38s 87ms/step - loss: 0.8537 - accuracy: 0.8425 - f1: 0.8418 - val_loss: 1.3088 - val_accuracy: 0.7197 - val_f1: 0.7237\n",
            "Epoch 13/30\n",
            "441/441 [==============================] - 38s 87ms/step - loss: 0.8458 - accuracy: 0.8479 - f1: 0.8499 - val_loss: 1.2911 - val_accuracy: 0.7384 - val_f1: 0.7420\n",
            "Epoch 14/30\n",
            "441/441 [==============================] - 38s 87ms/step - loss: 0.8191 - accuracy: 0.8564 - f1: 0.8592 - val_loss: 1.2913 - val_accuracy: 0.7424 - val_f1: 0.7485\n",
            "Epoch 15/30\n",
            "441/441 [==============================] - 38s 87ms/step - loss: 0.8002 - accuracy: 0.8601 - f1: 0.8611 - val_loss: 1.2586 - val_accuracy: 0.7386 - val_f1: 0.7435\n",
            "Epoch 16/30\n",
            "441/441 [==============================] - 38s 87ms/step - loss: 0.7925 - accuracy: 0.8602 - f1: 0.8627 - val_loss: 1.2661 - val_accuracy: 0.7476 - val_f1: 0.7558\n",
            "Epoch 17/30\n",
            "441/441 [==============================] - 38s 87ms/step - loss: 0.7840 - accuracy: 0.8682 - f1: 0.8674 - val_loss: 1.2532 - val_accuracy: 0.7418 - val_f1: 0.7506\n",
            "Epoch 18/30\n",
            "441/441 [==============================] - 38s 87ms/step - loss: 0.7758 - accuracy: 0.8691 - f1: 0.8707 - val_loss: 1.3078 - val_accuracy: 0.7516 - val_f1: 0.7581\n",
            "Epoch 19/30\n",
            "441/441 [==============================] - 38s 87ms/step - loss: 0.7637 - accuracy: 0.8727 - f1: 0.8752 - val_loss: 1.3308 - val_accuracy: 0.7378 - val_f1: 0.7443\n",
            "Epoch 20/30\n",
            "441/441 [==============================] - 38s 87ms/step - loss: 0.7600 - accuracy: 0.8729 - f1: 0.8733 - val_loss: 1.2410 - val_accuracy: 0.7565 - val_f1: 0.7617\n",
            "Epoch 21/30\n",
            "441/441 [==============================] - 38s 87ms/step - loss: 0.7588 - accuracy: 0.8771 - f1: 0.8780 - val_loss: 1.2497 - val_accuracy: 0.7546 - val_f1: 0.7635\n",
            "Epoch 22/30\n",
            "441/441 [==============================] - 38s 87ms/step - loss: 0.7363 - accuracy: 0.8799 - f1: 0.8805 - val_loss: 1.2735 - val_accuracy: 0.7458 - val_f1: 0.7526\n",
            "Epoch 23/30\n",
            "441/441 [==============================] - 38s 87ms/step - loss: 0.7203 - accuracy: 0.8869 - f1: 0.8862 - val_loss: 1.2438 - val_accuracy: 0.7550 - val_f1: 0.7664\n",
            "Epoch 24/30\n",
            "441/441 [==============================] - 38s 87ms/step - loss: 0.7483 - accuracy: 0.8763 - f1: 0.8779 - val_loss: 1.2558 - val_accuracy: 0.7527 - val_f1: 0.7601\n"
          ]
        }
      ],
      "source": [
        "history = model.fit(padding_train, labels_train, \n",
        "          epochs = 30, verbose=1, \n",
        "          validation_data = (padding_test, labels_test), \n",
        "          callbacks = [tensor, earlystop_callback])"
      ]
    },
    {
      "cell_type": "code",
      "execution_count": null,
      "metadata": {
        "colab": {
          "base_uri": "https://localhost:8080/",
          "height": 499
        },
        "id": "xZSN0UHKiyUh",
        "outputId": "97653c05-f590-4e36-a960-23bb0141b2d2"
      },
      "outputs": [
        {
          "data": {
            "image/png": "[encoded data removed]",
            "text/plain": [
              "<Figure size 720x576 with 1 Axes>"
            ]
          },
          "metadata": {
            "needs_background": "light"
          },
          "output_type": "display_data"
        }
      ],
      "source": [
        "f1_train = history.history['f1']\n",
        "f1_val   = history.history['val_f1']\n",
        "\n",
        "plt.figure(figsize=(10,8))\n",
        "plt.plot(list(range(24)), f1_train, label='train_f1')\n",
        "plt.plot(list(range(24)), f1_val, label='val_f1')\n",
        "plt.title(\"train f1 Vs val f1\")\n",
        "plt.show()"
      ]
    },
    {
      "cell_type": "code",
      "execution_count": null,
      "metadata": {
        "colab": {
          "base_uri": "https://localhost:8080/",
          "height": 499
        },
        "id": "Nhv1Ic_bywxl",
        "outputId": "6c0cbeea-3a41-488d-e93b-b8ea16a67e9e"
      },
      "outputs": [
        {
          "data": {
            "image/png": "[encoded data removed]",
            "text/plain": [
              "<Figure size 720x576 with 1 Axes>"
            ]
          },
          "metadata": {
            "needs_background": "light"
          },
          "output_type": "display_data"
        }
      ],
      "source": [
        "loss_train = history.history['loss']\n",
        "loss_val   = history.history['val_loss']\n",
        "\n",
        "plt.figure(figsize=(10,8))\n",
        "plt.plot(list(range(24)), loss_train, label='train_loss')\n",
        "plt.plot(list(range(24)), loss_val, label='val_loss')\n",
        "plt.title(\"train-loss Vs val-loss\")\n",
        "plt.show()"
      ]
    },
    {
      "cell_type": "code",
      "execution_count": null,
      "metadata": {
        "id": "58RSRFJ8z4VL"
      },
      "outputs": [],
      "source": []
    }
  ],
  "metadata": {
    "accelerator": "GPU",
    "colab": {
      "machine_shape": "hm",
      "provenance": []
    },
    "gpuClass": "premium",
    "kernelspec": {
      "display_name": "Python 3",
      "name": "python3"
    },
    "language_info": {
      "name": "python"
    },
    "widgets": {
      "application/vnd.jupyter.widget-state+json": {
        "0945a9790a744cd1985890cca17fb2a2": {
          "model_module": "@jupyter-widgets/controls",
          "model_module_version": "1.5.0",
          "model_name": "HTMLModel",
          "state": {
            "_dom_classes": [],
            "_model_module": "@jupyter-widgets/controls",
            "_model_module_version": "1.5.0",
            "_model_name": "HTMLModel",
            "_view_count": null,
            "_view_module": "@jupyter-widgets/controls",
            "_view_module_version": "1.5.0",
            "_view_name": "HTMLView",
            "description": "",
            "description_tooltip": null,
            "layout": "IPY_MODEL_53191f9e9b994784bf2ebc2cbf7a2553",
            "placeholder": "​",
            "style": "IPY_MODEL_e7bdc26ebc0843f59327b47ae253dae2",
            "value": " 135503/135503 [00:00&lt;00:00, 604793.18it/s]"
          }
        },
        "0bb845e8392a4707b18f76acee9fc702": {
          "model_module": "@jupyter-widgets/controls",
          "model_module_version": "1.5.0",
          "model_name": "DescriptionStyleModel",
          "state": {
            "_model_module": "@jupyter-widgets/controls",
            "_model_module_version": "1.5.0",
            "_model_name": "DescriptionStyleModel",
            "_view_count": null,
            "_view_module": "@jupyter-widgets/base",
            "_view_module_version": "1.2.0",
            "_view_name": "StyleView",
            "description_width": ""
          }
        },
        "2d5557be28064e2da2554f6ec0217725": {
          "model_module": "@jupyter-widgets/controls",
          "model_module_version": "1.5.0",
          "model_name": "HBoxModel",
          "state": {
            "_dom_classes": [],
            "_model_module": "@jupyter-widgets/controls",
            "_model_module_version": "1.5.0",
            "_model_name": "HBoxModel",
            "_view_count": null,
            "_view_module": "@jupyter-widgets/controls",
            "_view_module_version": "1.5.0",
            "_view_name": "HBoxView",
            "box_style": "",
            "children": [
              "IPY_MODEL_3723eac155bb4718863c396d33583296",
              "IPY_MODEL_659245ed65684b37bb4b59fc5b1de185",
              "IPY_MODEL_0945a9790a744cd1985890cca17fb2a2"
            ],
            "layout": "IPY_MODEL_ef6a084d329c45879049f5bc6e46f8e8"
          }
        },
        "3723eac155bb4718863c396d33583296": {
          "model_module": "@jupyter-widgets/controls",
          "model_module_version": "1.5.0",
          "model_name": "HTMLModel",
          "state": {
            "_dom_classes": [],
            "_model_module": "@jupyter-widgets/controls",
            "_model_module_version": "1.5.0",
            "_model_name": "HTMLModel",
            "_view_count": null,
            "_view_module": "@jupyter-widgets/controls",
            "_view_module_version": "1.5.0",
            "_view_name": "HTMLView",
            "description": "",
            "description_tooltip": null,
            "layout": "IPY_MODEL_62b221a5674a4ce6a58aabf7dff2a8df",
            "placeholder": "​",
            "style": "IPY_MODEL_0bb845e8392a4707b18f76acee9fc702",
            "value": "100%"
          }
        },
        "3a4a141fbbfb4a598cbde1a2e21dc730": {
          "model_module": "@jupyter-widgets/controls",
          "model_module_version": "1.5.0",
          "model_name": "HTMLModel",
          "state": {
            "_dom_classes": [],
            "_model_module": "@jupyter-widgets/controls",
            "_model_module_version": "1.5.0",
            "_model_name": "HTMLModel",
            "_view_count": null,
            "_view_module": "@jupyter-widgets/controls",
            "_view_module_version": "1.5.0",
            "_view_name": "HTMLView",
            "description": "",
            "description_tooltip": null,
            "layout": "IPY_MODEL_f91372cb98ed4595bf12238103ab1393",
            "placeholder": "​",
            "style": "IPY_MODEL_3e0cd29319e0406f86338d0f19364ef0",
            "value": " 400000/? [00:20&lt;00:00, 19857.67it/s]"
          }
        },
        "3c742133255f4d99b0458dfe1ab2d897": {
          "model_module": "@jupyter-widgets/controls",
          "model_module_version": "1.5.0",
          "model_name": "HBoxModel",
          "state": {
            "_dom_classes": [],
            "_model_module": "@jupyter-widgets/controls",
            "_model_module_version": "1.5.0",
            "_model_name": "HBoxModel",
            "_view_count": null,
            "_view_module": "@jupyter-widgets/controls",
            "_view_module_version": "1.5.0",
            "_view_name": "HBoxView",
            "box_style": "",
            "children": [
              "IPY_MODEL_8cebdfcfc3494769bc1573ec75406f09",
              "IPY_MODEL_c6bd3dc984384481b36e7ade4392be59",
              "IPY_MODEL_3a4a141fbbfb4a598cbde1a2e21dc730"
            ],
            "layout": "IPY_MODEL_89f5b269f44c4ab89754340eae413daf"
          }
        },
        "3e0cd29319e0406f86338d0f19364ef0": {
          "model_module": "@jupyter-widgets/controls",
          "model_module_version": "1.5.0",
          "model_name": "DescriptionStyleModel",
          "state": {
            "_model_module": "@jupyter-widgets/controls",
            "_model_module_version": "1.5.0",
            "_model_name": "DescriptionStyleModel",
            "_view_count": null,
            "_view_module": "@jupyter-widgets/base",
            "_view_module_version": "1.2.0",
            "_view_name": "StyleView",
            "description_width": ""
          }
        },
        "53191f9e9b994784bf2ebc2cbf7a2553": {
          "model_module": "@jupyter-widgets/base",
          "model_module_version": "1.2.0",
          "model_name": "LayoutModel",
          "state": {
            "_model_module": "@jupyter-widgets/base",
            "_model_module_version": "1.2.0",
            "_model_name": "LayoutModel",
            "_view_count": null,
            "_view_module": "@jupyter-widgets/base",
            "_view_module_version": "1.2.0",
            "_view_name": "LayoutView",
            "align_content": null,
            "align_items": null,
            "align_self": null,
            "border": null,
            "bottom": null,
            "display": null,
            "flex": null,
            "flex_flow": null,
            "grid_area": null,
            "grid_auto_columns": null,
            "grid_auto_flow": null,
            "grid_auto_rows": null,
            "grid_column": null,
            "grid_gap": null,
            "grid_row": null,
            "grid_template_areas": null,
            "grid_template_columns": null,
            "grid_template_rows": null,
            "height": null,
            "justify_content": null,
            "justify_items": null,
            "left": null,
            "margin": null,
            "max_height": null,
            "max_width": null,
            "min_height": null,
            "min_width": null,
            "object_fit": null,
            "object_position": null,
            "order": null,
            "overflow": null,
            "overflow_x": null,
            "overflow_y": null,
            "padding": null,
            "right": null,
            "top": null,
            "visibility": null,
            "width": null
          }
        },
        "5aa96acd53954baabffe1fe62fb32892": {
          "model_module": "@jupyter-widgets/controls",
          "model_module_version": "1.5.0",
          "model_name": "ProgressStyleModel",
          "state": {
            "_model_module": "@jupyter-widgets/controls",
            "_model_module_version": "1.5.0",
            "_model_name": "ProgressStyleModel",
            "_view_count": null,
            "_view_module": "@jupyter-widgets/base",
            "_view_module_version": "1.2.0",
            "_view_name": "StyleView",
            "bar_color": null,
            "description_width": ""
          }
        },
        "62b221a5674a4ce6a58aabf7dff2a8df": {
          "model_module": "@jupyter-widgets/base",
          "model_module_version": "1.2.0",
          "model_name": "LayoutModel",
          "state": {
            "_model_module": "@jupyter-widgets/base",
            "_model_module_version": "1.2.0",
            "_model_name": "LayoutModel",
            "_view_count": null,
            "_view_module": "@jupyter-widgets/base",
            "_view_module_version": "1.2.0",
            "_view_name": "LayoutView",
            "align_content": null,
            "align_items": null,
            "align_self": null,
            "border": null,
            "bottom": null,
            "display": null,
            "flex": null,
            "flex_flow": null,
            "grid_area": null,
            "grid_auto_columns": null,
            "grid_auto_flow": null,
            "grid_auto_rows": null,
            "grid_column": null,
            "grid_gap": null,
            "grid_row": null,
            "grid_template_areas": null,
            "grid_template_columns": null,
            "grid_template_rows": null,
            "height": null,
            "justify_content": null,
            "justify_items": null,
            "left": null,
            "margin": null,
            "max_height": null,
            "max_width": null,
            "min_height": null,
            "min_width": null,
            "object_fit": null,
            "object_position": null,
            "order": null,
            "overflow": null,
            "overflow_x": null,
            "overflow_y": null,
            "padding": null,
            "right": null,
            "top": null,
            "visibility": null,
            "width": null
          }
        },
        "659245ed65684b37bb4b59fc5b1de185": {
          "model_module": "@jupyter-widgets/controls",
          "model_module_version": "1.5.0",
          "model_name": "FloatProgressModel",
          "state": {
            "_dom_classes": [],
            "_model_module": "@jupyter-widgets/controls",
            "_model_module_version": "1.5.0",
            "_model_name": "FloatProgressModel",
            "_view_count": null,
            "_view_module": "@jupyter-widgets/controls",
            "_view_module_version": "1.5.0",
            "_view_name": "ProgressView",
            "bar_style": "success",
            "description": "",
            "description_tooltip": null,
            "layout": "IPY_MODEL_964f5645fe134ba09c5435f6ed8c8752",
            "max": 135503,
            "min": 0,
            "orientation": "horizontal",
            "style": "IPY_MODEL_ccc8cd6f69b1479c924ffa9bdb5e1f9d",
            "value": 135503
          }
        },
        "6a2f8f4f95db4d26a481f4bee341269f": {
          "model_module": "@jupyter-widgets/controls",
          "model_module_version": "1.5.0",
          "model_name": "DescriptionStyleModel",
          "state": {
            "_model_module": "@jupyter-widgets/controls",
            "_model_module_version": "1.5.0",
            "_model_name": "DescriptionStyleModel",
            "_view_count": null,
            "_view_module": "@jupyter-widgets/base",
            "_view_module_version": "1.2.0",
            "_view_name": "StyleView",
            "description_width": ""
          }
        },
        "89f5b269f44c4ab89754340eae413daf": {
          "model_module": "@jupyter-widgets/base",
          "model_module_version": "1.2.0",
          "model_name": "LayoutModel",
          "state": {
            "_model_module": "@jupyter-widgets/base",
            "_model_module_version": "1.2.0",
            "_model_name": "LayoutModel",
            "_view_count": null,
            "_view_module": "@jupyter-widgets/base",
            "_view_module_version": "1.2.0",
            "_view_name": "LayoutView",
            "align_content": null,
            "align_items": null,
            "align_self": null,
            "border": null,
            "bottom": null,
            "display": null,
            "flex": null,
            "flex_flow": null,
            "grid_area": null,
            "grid_auto_columns": null,
            "grid_auto_flow": null,
            "grid_auto_rows": null,
            "grid_column": null,
            "grid_gap": null,
            "grid_row": null,
            "grid_template_areas": null,
            "grid_template_columns": null,
            "grid_template_rows": null,
            "height": null,
            "justify_content": null,
            "justify_items": null,
            "left": null,
            "margin": null,
            "max_height": null,
            "max_width": null,
            "min_height": null,
            "min_width": null,
            "object_fit": null,
            "object_position": null,
            "order": null,
            "overflow": null,
            "overflow_x": null,
            "overflow_y": null,
            "padding": null,
            "right": null,
            "top": null,
            "visibility": null,
            "width": null
          }
        },
        "8cebdfcfc3494769bc1573ec75406f09": {
          "model_module": "@jupyter-widgets/controls",
          "model_module_version": "1.5.0",
          "model_name": "HTMLModel",
          "state": {
            "_dom_classes": [],
            "_model_module": "@jupyter-widgets/controls",
            "_model_module_version": "1.5.0",
            "_model_name": "HTMLModel",
            "_view_count": null,
            "_view_module": "@jupyter-widgets/controls",
            "_view_module_version": "1.5.0",
            "_view_name": "HTMLView",
            "description": "",
            "description_tooltip": null,
            "layout": "IPY_MODEL_cfabf5b9d13d4ce9b5f3a719114b8fc9",
            "placeholder": "​",
            "style": "IPY_MODEL_6a2f8f4f95db4d26a481f4bee341269f",
            "value": ""
          }
        },
        "964f5645fe134ba09c5435f6ed8c8752": {
          "model_module": "@jupyter-widgets/base",
          "model_module_version": "1.2.0",
          "model_name": "LayoutModel",
          "state": {
            "_model_module": "@jupyter-widgets/base",
            "_model_module_version": "1.2.0",
            "_model_name": "LayoutModel",
            "_view_count": null,
            "_view_module": "@jupyter-widgets/base",
            "_view_module_version": "1.2.0",
            "_view_name": "LayoutView",
            "align_content": null,
            "align_items": null,
            "align_self": null,
            "border": null,
            "bottom": null,
            "display": null,
            "flex": null,
            "flex_flow": null,
            "grid_area": null,
            "grid_auto_columns": null,
            "grid_auto_flow": null,
            "grid_auto_rows": null,
            "grid_column": null,
            "grid_gap": null,
            "grid_row": null,
            "grid_template_areas": null,
            "grid_template_columns": null,
            "grid_template_rows": null,
            "height": null,
            "justify_content": null,
            "justify_items": null,
            "left": null,
            "margin": null,
            "max_height": null,
            "max_width": null,
            "min_height": null,
            "min_width": null,
            "object_fit": null,
            "object_position": null,
            "order": null,
            "overflow": null,
            "overflow_x": null,
            "overflow_y": null,
            "padding": null,
            "right": null,
            "top": null,
            "visibility": null,
            "width": null
          }
        },
        "b675a4602a664f0284afff8a59cef526": {
          "model_module": "@jupyter-widgets/base",
          "model_module_version": "1.2.0",
          "model_name": "LayoutModel",
          "state": {
            "_model_module": "@jupyter-widgets/base",
            "_model_module_version": "1.2.0",
            "_model_name": "LayoutModel",
            "_view_count": null,
            "_view_module": "@jupyter-widgets/base",
            "_view_module_version": "1.2.0",
            "_view_name": "LayoutView",
            "align_content": null,
            "align_items": null,
            "align_self": null,
            "border": null,
            "bottom": null,
            "display": null,
            "flex": null,
            "flex_flow": null,
            "grid_area": null,
            "grid_auto_columns": null,
            "grid_auto_flow": null,
            "grid_auto_rows": null,
            "grid_column": null,
            "grid_gap": null,
            "grid_row": null,
            "grid_template_areas": null,
            "grid_template_columns": null,
            "grid_template_rows": null,
            "height": null,
            "justify_content": null,
            "justify_items": null,
            "left": null,
            "margin": null,
            "max_height": null,
            "max_width": null,
            "min_height": null,
            "min_width": null,
            "object_fit": null,
            "object_position": null,
            "order": null,
            "overflow": null,
            "overflow_x": null,
            "overflow_y": null,
            "padding": null,
            "right": null,
            "top": null,
            "visibility": null,
            "width": "20px"
          }
        },
        "c6bd3dc984384481b36e7ade4392be59": {
          "model_module": "@jupyter-widgets/controls",
          "model_module_version": "1.5.0",
          "model_name": "FloatProgressModel",
          "state": {
            "_dom_classes": [],
            "_model_module": "@jupyter-widgets/controls",
            "_model_module_version": "1.5.0",
            "_model_name": "FloatProgressModel",
            "_view_count": null,
            "_view_module": "@jupyter-widgets/controls",
            "_view_module_version": "1.5.0",
            "_view_name": "ProgressView",
            "bar_style": "success",
            "description": "",
            "description_tooltip": null,
            "layout": "IPY_MODEL_b675a4602a664f0284afff8a59cef526",
            "max": 1,
            "min": 0,
            "orientation": "horizontal",
            "style": "IPY_MODEL_5aa96acd53954baabffe1fe62fb32892",
            "value": 1
          }
        },
        "ccc8cd6f69b1479c924ffa9bdb5e1f9d": {
          "model_module": "@jupyter-widgets/controls",
          "model_module_version": "1.5.0",
          "model_name": "ProgressStyleModel",
          "state": {
            "_model_module": "@jupyter-widgets/controls",
            "_model_module_version": "1.5.0",
            "_model_name": "ProgressStyleModel",
            "_view_count": null,
            "_view_module": "@jupyter-widgets/base",
            "_view_module_version": "1.2.0",
            "_view_name": "StyleView",
            "bar_color": null,
            "description_width": ""
          }
        },
        "cfabf5b9d13d4ce9b5f3a719114b8fc9": {
          "model_module": "@jupyter-widgets/base",
          "model_module_version": "1.2.0",
          "model_name": "LayoutModel",
          "state": {
            "_model_module": "@jupyter-widgets/base",
            "_model_module_version": "1.2.0",
            "_model_name": "LayoutModel",
            "_view_count": null,
            "_view_module": "@jupyter-widgets/base",
            "_view_module_version": "1.2.0",
            "_view_name": "LayoutView",
            "align_content": null,
            "align_items": null,
            "align_self": null,
            "border": null,
            "bottom": null,
            "display": null,
            "flex": null,
            "flex_flow": null,
            "grid_area": null,
            "grid_auto_columns": null,
            "grid_auto_flow": null,
            "grid_auto_rows": null,
            "grid_column": null,
            "grid_gap": null,
            "grid_row": null,
            "grid_template_areas": null,
            "grid_template_columns": null,
            "grid_template_rows": null,
            "height": null,
            "justify_content": null,
            "justify_items": null,
            "left": null,
            "margin": null,
            "max_height": null,
            "max_width": null,
            "min_height": null,
            "min_width": null,
            "object_fit": null,
            "object_position": null,
            "order": null,
            "overflow": null,
            "overflow_x": null,
            "overflow_y": null,
            "padding": null,
            "right": null,
            "top": null,
            "visibility": null,
            "width": null
          }
        },
        "e7bdc26ebc0843f59327b47ae253dae2": {
          "model_module": "@jupyter-widgets/controls",
          "model_module_version": "1.5.0",
          "model_name": "DescriptionStyleModel",
          "state": {
            "_model_module": "@jupyter-widgets/controls",
            "_model_module_version": "1.5.0",
            "_model_name": "DescriptionStyleModel",
            "_view_count": null,
            "_view_module": "@jupyter-widgets/base",
            "_view_module_version": "1.2.0",
            "_view_name": "StyleView",
            "description_width": ""
          }
        },
        "ef6a084d329c45879049f5bc6e46f8e8": {
          "model_module": "@jupyter-widgets/base",
          "model_module_version": "1.2.0",
          "model_name": "LayoutModel",
          "state": {
            "_model_module": "@jupyter-widgets/base",
            "_model_module_version": "1.2.0",
            "_model_name": "LayoutModel",
            "_view_count": null,
            "_view_module": "@jupyter-widgets/base",
            "_view_module_version": "1.2.0",
            "_view_name": "LayoutView",
            "align_content": null,
            "align_items": null,
            "align_self": null,
            "border": null,
            "bottom": null,
            "display": null,
            "flex": null,
            "flex_flow": null,
            "grid_area": null,
            "grid_auto_columns": null,
            "grid_auto_flow": null,
            "grid_auto_rows": null,
            "grid_column": null,
            "grid_gap": null,
            "grid_row": null,
            "grid_template_areas": null,
            "grid_template_columns": null,
            "grid_template_rows": null,
            "height": null,
            "justify_content": null,
            "justify_items": null,
            "left": null,
            "margin": null,
            "max_height": null,
            "max_width": null,
            "min_height": null,
            "min_width": null,
            "object_fit": null,
            "object_position": null,
            "order": null,
            "overflow": null,
            "overflow_x": null,
            "overflow_y": null,
            "padding": null,
            "right": null,
            "top": null,
            "visibility": null,
            "width": null
          }
        },
        "f91372cb98ed4595bf12238103ab1393": {
          "model_module": "@jupyter-widgets/base",
          "model_module_version": "1.2.0",
          "model_name": "LayoutModel",
          "state": {
            "_model_module": "@jupyter-widgets/base",
            "_model_module_version": "1.2.0",
            "_model_name": "LayoutModel",
            "_view_count": null,
            "_view_module": "@jupyter-widgets/base",
            "_view_module_version": "1.2.0",
            "_view_name": "LayoutView",
            "align_content": null,
            "align_items": null,
            "align_self": null,
            "border": null,
            "bottom": null,
            "display": null,
            "flex": null,
            "flex_flow": null,
            "grid_area": null,
            "grid_auto_columns": null,
            "grid_auto_flow": null,
            "grid_auto_rows": null,
            "grid_column": null,
            "grid_gap": null,
            "grid_row": null,
            "grid_template_areas": null,
            "grid_template_columns": null,
            "grid_template_rows": null,
            "height": null,
            "justify_content": null,
            "justify_items": null,
            "left": null,
            "margin": null,
            "max_height": null,
            "max_width": null,
            "min_height": null,
            "min_width": null,
            "object_fit": null,
            "object_position": null,
            "order": null,
            "overflow": null,
            "overflow_x": null,
            "overflow_y": null,
            "padding": null,
            "right": null,
            "top": null,
            "visibility": null,
            "width": null
          }
        }
      }
    }
  },
  "nbformat": 4,
  "nbformat_minor": 0
}
